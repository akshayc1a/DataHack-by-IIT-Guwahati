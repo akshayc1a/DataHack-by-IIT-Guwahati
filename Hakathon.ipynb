{
  "nbformat": 4,
  "nbformat_minor": 0,
  "metadata": {
    "colab": {
      "provenance": []
    },
    "kernelspec": {
      "name": "python3",
      "display_name": "Python 3"
    },
    "language_info": {
      "name": "python"
    }
  },
  "cells": [
    {
      "cell_type": "code",
      "source": [
        "import pandas as pd\n",
        "from sklearn.model_selection import train_test_split\n",
        "from sklearn.preprocessing import OneHotEncoder, StandardScaler\n",
        "from sklearn.impute import SimpleImputer\n",
        "from sklearn.linear_model import LogisticRegression\n",
        "from sklearn.metrics import roc_auc_score\n",
        "from sklearn.pipeline import Pipeline\n",
        "from sklearn.compose import ColumnTransformer\n",
        "\n",
        "# Load datasets\n",
        "labels = pd.read_csv('/content/training_set_labels.csv')\n",
        "features = pd.read_csv('/content/training_set_features.csv')\n",
        "\n",
        "# Merge datasets on respondent_id\n",
        "data = pd.merge(labels, features, on='respondent_id')\n",
        "\n",
        "# Separate features and targets\n",
        "X = data.drop(columns=['respondent_id', 'xyz_vaccine', 'seasonal_vaccine'])\n",
        "y_xyz = data['xyz_vaccine']\n",
        "y_seasonal = data['seasonal_vaccine']\n",
        "\n",
        "# Identify categorical and numerical columns\n",
        "cat_features = X.select_dtypes(include=['object']).columns\n",
        "num_features = X.select_dtypes(exclude=['object']).columns\n",
        "\n",
        "# Preprocessing pipelines for numerical and categorical data\n",
        "num_pipeline = Pipeline([\n",
        "    ('imputer', SimpleImputer(strategy='median')),\n",
        "    ('scaler', StandardScaler())\n",
        "])\n",
        "\n",
        "cat_pipeline = Pipeline([\n",
        "    ('imputer', SimpleImputer(strategy='most_frequent')),\n",
        "    ('onehot', OneHotEncoder(handle_unknown='ignore'))\n",
        "])\n",
        "\n",
        "# Combine preprocessing pipelines\n",
        "preprocessor = ColumnTransformer([\n",
        "    ('num', num_pipeline, num_features),\n",
        "    ('cat', cat_pipeline, cat_features)\n",
        "])\n",
        "\n",
        "# Train model for xyz_vaccine using Logistic Regression with L1 and L2 regularization\n",
        "X_train, X_val, y_train, y_val = train_test_split(X, y_xyz, test_size=0.2, random_state=42)\n",
        "model_xyz = Pipeline([\n",
        "    ('preprocessor', preprocessor),\n",
        "    ('classifier', LogisticRegression(penalty='elasticnet', solver='saga', l1_ratio=0.5, random_state=42, max_iter=10000))\n",
        "])\n",
        "model_xyz.fit(X_train, y_train)\n",
        "y_pred_xyz = model_xyz.predict_proba(X_val)[:, 1]\n",
        "roc_auc_xyz = roc_auc_score(y_val, y_pred_xyz)\n",
        "print(f'ROC AUC for xyz_vaccine: {roc_auc_xyz}')\n",
        "\n",
        "# Train model for seasonal_vaccine using Logistic Regression with L1 and L2 regularization\n",
        "X_train, X_val, y_train, y_val = train_test_split(X, y_seasonal, test_size=0.2, random_state=42)\n",
        "model_seasonal = Pipeline([\n",
        "    ('preprocessor', preprocessor),\n",
        "    ('classifier', LogisticRegression(penalty='elasticnet', solver='saga', l1_ratio=0.5, random_state=42, max_iter=10000))\n",
        "])\n",
        "model_seasonal.fit(X_train, y_train)\n",
        "y_pred_seasonal = model_seasonal.predict_proba(X_val)[:, 1]\n",
        "roc_auc_seasonal = roc_auc_score(y_val, y_pred_seasonal)\n",
        "print(f'ROC AUC for seasonal_vaccine: {roc_auc_seasonal}')\n",
        "\n",
        "# Average ROC AUC\n",
        "average_roc_auc = (roc_auc_xyz + roc_auc_seasonal) / 2\n",
        "print(f'Average ROC AUC: {average_roc_auc}')\n",
        "\n",
        "# Predictions for submission\n",
        "test_data = pd.read_csv('/content/test_set_features.csv')\n",
        "test_preds_xyz = model_xyz.predict_proba(test_data)[:, 1]\n",
        "test_preds_seasonal = model_seasonal.predict_proba(test_data)[:, 1]\n",
        "\n",
        "submission = pd.DataFrame({\n",
        "    'respondent_id': test_data['respondent_id'],\n",
        "    'xyz_vaccine': test_preds_xyz,\n",
        "    'seasonal_vaccine': test_preds_seasonal\n",
        "})\n",
        "submission.to_csv('submission.csv', index=False)\n"
      ],
      "metadata": {
        "colab": {
          "base_uri": "https://localhost:8080/"
        },
        "id": "9w8kMMtuZ_uh",
        "outputId": "2a1db5f3-ec05-4285-85e2-a23ef491e6d3"
      },
      "execution_count": 10,
      "outputs": [
        {
          "output_type": "stream",
          "name": "stdout",
          "text": [
            "ROC AUC for xyz_vaccine: 0.831444293169957\n",
            "ROC AUC for seasonal_vaccine: 0.8560803156604843\n",
            "Average ROC AUC: 0.8437623044152207\n"
          ]
        }
      ]
    }
  ]
}